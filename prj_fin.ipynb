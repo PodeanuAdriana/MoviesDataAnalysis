{
 "cells": [
  {
   "cell_type": "code",
   "execution_count": 3,
   "id": "76356d28",
   "metadata": {},
   "outputs": [
    {
     "name": "stdout",
     "output_type": "stream",
     "text": [
      "100000\n",
      "87585\n"
     ]
    }
   ],
   "source": [
    "#proiect final analiza datelor \n",
    "import math\n",
    "import pandas as pd\n",
    "import seaborn as sns\n",
    "import matplotlib.pyplot as plt\n",
    "import numpy as np\n",
    "rat=pd.read_csv(r\"data_prj/ratings.csv\",nrows=100000)\n",
    "mov=pd.read_csv(r\"data_prj/movies.csv\",nrows=100000)\n",
    "tags=pd.read_csv(r\"data_prj/tags.csv\",nrows=100000)\n",
    "# selectez coloanele care ma intreseaza din fiecare fisier \n",
    "\n",
    "#ratings.csv\n",
    "\n",
    "userId=rat[\"userId\"]\n",
    "movieId=rat[\"movieId\"]\n",
    "rating=rat[\"rating\"]\n",
    "timest=rat[\"timestamp\"]\n",
    "\n",
    "#movie.csv\n",
    "\n",
    "movId=mov[\"movieId\"]\n",
    "title=mov[\"title\"]\n",
    "\n",
    "\n",
    "nr_inre_ra=rating.size\n",
    "print(nr_inre_ra)\n",
    "\n",
    "nr_inre_mv=title.size\n",
    "print(nr_inre_mv)\n",
    "\n"
   ]
  },
  {
   "cell_type": "code",
   "execution_count": 5,
   "id": "f6ffbdc4",
   "metadata": {},
   "outputs": [
    {
     "name": "stdout",
     "output_type": "stream",
     "text": [
      "352052.5\n",
      "3.520525\n"
     ]
    }
   ],
   "source": [
    "\n",
    "#Calculez suma raitingurilor\n",
    "\n",
    "suma_rat=rat[\"rating\"].sum()\n",
    "print(suma_rat)\n",
    "#Calculez media generala a raitingurilor\n",
    "\n",
    "medie_rat=suma_rat/nr_inre_ra\n",
    "print(medie_rat)"
   ]
  },
  {
   "cell_type": "code",
   "execution_count": 6,
   "id": "acc8105b",
   "metadata": {},
   "outputs": [
    {
     "name": "stdout",
     "output_type": "stream",
     "text": [
      "0        0.479475\n",
      "1       -2.520525\n",
      "2       -1.520525\n",
      "3        1.479475\n",
      "4        1.479475\n",
      "           ...   \n",
      "99995   -0.520525\n",
      "99996   -0.520525\n",
      "99997   -1.020525\n",
      "99998    0.479475\n",
      "99999   -1.020525\n",
      "Name: rating, Length: 100000, dtype: float64\n"
     ]
    }
   ],
   "source": [
    "# pun intr-un nou df valorile centrate de raiting fata de medie \n",
    "#calculez (xi-medie)\n",
    "\n",
    "rat_op_medie=rat[\"rating\"]- medie_rat\n",
    "print(rat_op_medie)"
   ]
  },
  {
   "cell_type": "code",
   "execution_count": 7,
   "id": "8133714f",
   "metadata": {},
   "outputs": [
    {
     "name": "stdout",
     "output_type": "stream",
     "text": [
      "0        0.229896\n",
      "1        6.353046\n",
      "2        2.311996\n",
      "3        2.188846\n",
      "4        2.188846\n",
      "           ...   \n",
      "99995    0.270946\n",
      "99996    0.270946\n",
      "99997    1.041471\n",
      "99998    0.229896\n",
      "99999    1.041471\n",
      "Name: rating, Length: 100000, dtype: float64\n"
     ]
    }
   ],
   "source": [
    "#calculez (xi-medie)^2\n",
    "\n",
    "rat_op_medie_pt=pow(rat_op_medie,2)\n",
    "print(rat_op_medie_pt)"
   ]
  },
  {
   "cell_type": "code",
   "execution_count": 8,
   "id": "9c6fa3e3",
   "metadata": {},
   "outputs": [
    {
     "name": "stdout",
     "output_type": "stream",
     "text": [
      "100000\n",
      "1e-05\n",
      "115018.12243750002\n",
      "1.1501812243750003\n"
     ]
    }
   ],
   "source": [
    "nr_inre_ra=rating.size\n",
    "print(nr_inre_ra)\n",
    "\n",
    "fractie=1/nr_inre_ra\n",
    "print(fractie)\n",
    "suma_dist_pt= rat_op_medie_pt.sum()\n",
    "print(suma_dist_pt)\n",
    "\n",
    "varianta_tot=fractie*suma_dist_pt\n",
    "print(varianta_tot)"
   ]
  },
  {
   "cell_type": "code",
   "execution_count": 9,
   "id": "22337a99",
   "metadata": {},
   "outputs": [
    {
     "name": "stdout",
     "output_type": "stream",
     "text": [
      "0.5\n",
      "5.0\n"
     ]
    }
   ],
   "source": [
    "min_rating=rat[\"rating\"].min()\n",
    "print(min_rating)\n",
    "max_rating=rat[\"rating\"].max()\n",
    "print(max_rating)"
   ]
  },
  {
   "cell_type": "code",
   "execution_count": 10,
   "id": "06aeda62",
   "metadata": {},
   "outputs": [
    {
     "name": "stdout",
     "output_type": "stream",
     "text": [
      "50718\n",
      "49282\n",
      "0.50718\n",
      "0.49282\n"
     ]
    }
   ],
   "source": [
    "# calculez distributia Bernouli \n",
    "# domeniul A=[min_rating,max_rating]\n",
    "# voi defini functia f in care voi face comparatie cu raiting < 4\n",
    "\n",
    "# suma_mic_4=0\n",
    "# suma_mar_4=0\n",
    "# for rating in rat[\"rating\"]:\n",
    "#     if(rating < 4):\n",
    "#         suma_mic_4+=1\n",
    "#     else:\n",
    "#         suma_mar_4+=1\n",
    "\n",
    "suma_mic_4=(rat[\"rating\"] <4).sum()\n",
    "suma_mar_4=(rat[\"rating\"] >= 4).sum()\n",
    "\n",
    "print(suma_mic_4)\n",
    "print(suma_mar_4)\n",
    "\n",
    "\n",
    "# calculez p si 1-p\n",
    "\n",
    "p=suma_mic_4/nr_inre_ra\n",
    "print(p)\n",
    "p1=suma_mar_4/nr_inre_ra\n",
    "print(p1)"
   ]
  },
  {
   "cell_type": "code",
   "execution_count": 11,
   "id": "74b88148",
   "metadata": {},
   "outputs": [],
   "source": [
    "# for rati in rat[\"rating\"]:\n",
    "#     rat['expp']=math.exp(-pow(rati-medie_rat,2)/(2*pow(varianta_tot,2)))\n",
    "#     print(expp)\n",
    "\n",
    "#alta varianta \n",
    "\n",
    "rat['expp'] = np.exp(-((rat[\"rating\"] - medie_rat) ** 2) / (2 * (varianta_tot ** 2)))"
   ]
  },
  {
   "cell_type": "code",
   "execution_count": 12,
   "id": "38cf8c9f",
   "metadata": {},
   "outputs": [
    {
     "name": "stdout",
     "output_type": "stream",
     "text": [
      "2.8830767779680784\n",
      "0.34685167167305736\n"
     ]
    }
   ],
   "source": [
    "#radical(2pi*sigma^2)\n",
    "radical=np.sqrt(2*math.pi*pow(varianta_tot,2))\n",
    "print(radical)\n",
    "fractie_radical=1/radical\n",
    "print(fractie_radical)"
   ]
  },
  {
   "cell_type": "code",
   "execution_count": 16,
   "id": "38795e6e",
   "metadata": {},
   "outputs": [
    {
     "name": "stdout",
     "output_type": "stream",
     "text": [
      "0        0.233988\n",
      "1        0.233988\n",
      "2        0.233988\n",
      "3        0.233988\n",
      "4        0.233988\n",
      "           ...   \n",
      "99995    0.233988\n",
      "99996    0.233988\n",
      "99997    0.233988\n",
      "99998    0.233988\n",
      "99999    0.233988\n",
      "Name: diff, Length: 100000, dtype: float64\n"
     ]
    }
   ],
   "source": [
    "# calculez functia f(x)\n",
    "\n",
    "# for ex in rat['expp']:\n",
    "rat['diff']=ex*fractie_radical\n",
    "print(rat['diff'])"
   ]
  },
  {
   "cell_type": "code",
   "execution_count": 23,
   "id": "6db6d3d3",
   "metadata": {},
   "outputs": [
    {
     "data": {
      "image/png": "[encoded data removed]",
      "text/plain": [
       "<Figure size 640x480 with 1 Axes>"
      ]
     },
     "metadata": {},
     "output_type": "display_data"
    },
    {
     "data": {
      "image/png": "[encoded data removed]",
      "text/plain": [
       "<Figure size 640x480 with 1 Axes>"
      ]
     },
     "metadata": {},
     "output_type": "display_data"
    }
   ],
   "source": [
    "plt.plot(rat['rating'], rat['diff'],marker='o')\n",
    "\n",
    "plt.xlabel(\"F(x)\")\n",
    "plt.ylabel(\"ratings\")\n",
    "plt.grid()\n",
    "plt.show()\n",
    "\n",
    "import seaborn as sns\n",
    "\n",
    "sns.lineplot(data=rat, x=\"rating\", y=\"diff\")\n",
    "plt.title(\"Grafic cu f(x)\")\n",
    "plt.show()"
   ]
  },
  {
   "cell_type": "code",
   "execution_count": 29,
   "id": "87fd93e7",
   "metadata": {},
   "outputs": [],
   "source": [
    "rat['nr_useri_mv']=rat.groupby(\"movieId\").size()\n",
    "# print(nr_useri_mv)"
   ]
  },
  {
   "cell_type": "code",
   "execution_count": 35,
   "id": "ec2c478f",
   "metadata": {},
   "outputs": [
    {
     "name": "stdout",
     "output_type": "stream",
     "text": [
      "100000\n",
      "89606.0\n",
      "0.89606\n",
      "1.0\n",
      "319.0\n"
     ]
    }
   ],
   "source": [
    "# #medie useri\n",
    "# #nr useri\n",
    "rat['nr_useri']=rat['userId'].count()\n",
    "print(nr_useri)\n",
    "\n",
    "suma_useri=rat['nr_useri_mv'].sum()\n",
    "print(suma_useri)\n",
    "medie_us=suma_useri/nr_useri\n",
    "print(medie_us)\n",
    "\n",
    "#calculez minim pe coloana\n",
    "min_us=rat['nr_useri_mv'].min()\n",
    "print(min_us)\n",
    "max_us=rat['nr_useri_mv'].max()\n",
    "print(max_us)"
   ]
  },
  {
   "cell_type": "code",
   "execution_count": 40,
   "id": "109698f5",
   "metadata": {},
   "outputs": [
    {
     "name": "stdout",
     "output_type": "stream",
     "text": [
      "0        0.447078\n",
      "1       -2.350217\n",
      "2       -1.417785\n",
      "3        1.379509\n",
      "4        1.379509\n",
      "           ...   \n",
      "99995   -0.485354\n",
      "99996   -0.485354\n",
      "99997   -0.951569\n",
      "99998    0.447078\n",
      "99999   -0.951569\n",
      "Name: zscore_rat, Length: 100000, dtype: float64\n"
     ]
    }
   ],
   "source": [
    "#voi calcula Z score pt coloana rating \n",
    "\n",
    "#calculez (xi-medie) rating \n",
    "rat['rat_op_medie']=rat[\"rating\"]- medie_rat\n",
    "# print(rat['rat_op_medie'])\n",
    "\n",
    "\n",
    "varianta_tot=fractie*suma_dist_pt\n",
    "# print(varianta_tot)\n",
    "\n",
    "sigma=np.sqrt(varianta_tot)\n",
    "# print(sigma)\n",
    "\n",
    "\n",
    "# Z score rating\n",
    "\n",
    "rat['zscore_rat']=rat['rat_op_medie']/sigma\n",
    "print(rat['zscore_rat'])\n"
   ]
  },
  {
   "cell_type": "code",
   "execution_count": 49,
   "id": "74901020",
   "metadata": {},
   "outputs": [
    {
     "name": "stdout",
     "output_type": "stream",
     "text": [
      "82964.40327999998\n",
      "0.8296440327999999\n",
      "0.9108479745819277\n"
     ]
    }
   ],
   "source": [
    "#voi calcula Z score pentru coloana nr_useri_mv care reprezinta nr de voturi date/useri pentru fiecare film\n",
    "\n",
    "\n",
    "# calculez (xi-medie) nr_useri_mv\n",
    "\n",
    "rat['cent_use']=rat['nr_useri_mv']- medie_us\n",
    "# print(rat['cent_use'])\n",
    "\n",
    "# nan_nr=rat['cent_use'].isnull().sum()\n",
    "# print(nan_nr)\n",
    "\n",
    "\n",
    "# am completat valorile lipsa cu 0\n",
    "rat['cent_use']=rat['cent_use'].fillna(0)\n",
    "# print(rat['cent_use'])\n",
    "\n",
    "suma_usxi=rat['cent_use'].sum()\n",
    "print(suma_usxi)\n",
    "fractie=1/nr_inre_ra\n",
    "# print(fractie)\n",
    "\n",
    "varianta_totus=suma_usxi*fractie\n",
    "print(varianta_totus)\n",
    "\n",
    "sigma_us=np.sqrt(varianta_totus)\n",
    "print(sigma_us)\n",
    "\n",
    "\n",
    "# rat['zscore_us']=rat['cent_use']/sigma_us\n"
   ]
  },
  {
   "cell_type": "code",
   "execution_count": 55,
   "id": "1ebaeb3e",
   "metadata": {},
   "outputs": [
    {
     "name": "stdout",
     "output_type": "stream",
     "text": [
      "-0.10355689616010104\n",
      "1.0236959052439191e-05\n"
     ]
    }
   ],
   "source": [
    "# nr_useri_mv,rating\n",
    "#calculez (xi-medie) rating \n",
    "rat['calcule']=rat['rat_op_medie']*rat['cent_use']\n",
    "# print(rat['calcule'])\n",
    "\n",
    "suma_cal=rat['calcule'].sum()\n",
    "# print(suma_cal)\n",
    "\n",
    "\n",
    "#calculez covarianta pentru cele 2 coloane\n",
    "\n",
    "covarianta=suma_cal/suma_useri\n",
    "print(covarianta)\n",
    "\n",
    "covar_stand=fractie/(sigma_us*sigma)\n",
    "print(covar_stand)"
   ]
  },
  {
   "cell_type": "code",
   "execution_count": 59,
   "id": "b3c9facb",
   "metadata": {},
   "outputs": [
    {
     "name": "stdout",
     "output_type": "stream",
     "text": [
      "0        0.000000\n",
      "1        1.839286\n",
      "2        0.394737\n",
      "3        0.100346\n",
      "4        0.022508\n",
      "           ...   \n",
      "99995    0.000000\n",
      "99996    0.003155\n",
      "99997    0.000000\n",
      "99998    0.000000\n",
      "99999    0.000000\n",
      "Name: normalizare_nrusmv, Length: 100000, dtype: float64\n"
     ]
    }
   ],
   "source": [
    "#normalizare (xi-min)/(max-xi) pt rating\n",
    "\n",
    "rat['normalizare_rat']=((rat['rating']-min_rating)/(max_rating-rat['rating']))\n",
    "# print(rat['normalizare_rat'])\n",
    "\n",
    "#normalizare  (xi-min)/(max-xi) pt nr_useri_mv\n",
    "rat['normalizare_nrusmv']= ((rat['nr_useri_mv']-min_us)/(max_us-rat['nr_useri_mv']))\n",
    "# am completat valorile lipsa cu 0\n",
    "rat['normalizare_nrusmv']=rat['normalizare_nrusmv'].fillna(0)\n",
    "print(rat['normalizare_nrusmv'])"
   ]
  },
  {
   "cell_type": "code",
   "execution_count": 64,
   "id": "d22e55c0",
   "metadata": {},
   "outputs": [
    {
     "name": "stdout",
     "output_type": "stream",
     "text": [
      "0          0.000000\n",
      "1        519.490133\n",
      "2        137.005293\n",
      "3         43.058552\n",
      "4         10.510102\n",
      "            ...    \n",
      "99995      0.000000\n",
      "99996      0.574628\n",
      "99997      0.000000\n",
      "99998      0.000000\n",
      "99999      0.000000\n",
      "Name: modul_usmv, Length: 100000, dtype: float64\n"
     ]
    }
   ],
   "source": [
    "# print(rat['rat_op_medie'])\n",
    "\n",
    "#Modul \n",
    "rat['modul_rat']=np.abs(rat['rat_op_medie'])\n",
    "# print(rat['modul_rat'])\n",
    "rat['modul_usmv']=np.abs(rat['calcule'])\n",
    "print(rat['modul_usmv'])"
   ]
  },
  {
   "cell_type": "code",
   "execution_count": 66,
   "id": "539b8af7",
   "metadata": {},
   "outputs": [
    {
     "name": "stdout",
     "output_type": "stream",
     "text": [
      "0          0.479475\n",
      "1        519.496248\n",
      "2        137.013731\n",
      "3         43.083961\n",
      "4         10.613721\n",
      "            ...    \n",
      "99995      0.520525\n",
      "99996      0.775335\n",
      "99997      1.020525\n",
      "99998      0.479475\n",
      "99999      1.020525\n",
      "Name: centrare_ratmv, Length: 100000, dtype: float64\n",
      "519.496248026391\n"
     ]
    }
   ],
   "source": [
    "# Centrare rating\n",
    "\n",
    "rat['centrare_ratmv']=np.sqrt((rat['modul_rat'] **2)+(rat['modul_usmv']**2))\n",
    "print(rat['centrare_ratmv'])\n",
    "\n",
    "#caut maxim pe toate coloanele calculate \n",
    "\n",
    "max_centr=rat['centrare_ratmv'].max()\n",
    "print(max_centr)"
   ]
  },
  {
   "cell_type": "code",
   "execution_count": null,
   "id": "55a4c17f",
   "metadata": {},
   "outputs": [],
   "source": []
  }
 ],
 "metadata": {
  "kernelspec": {
   "display_name": "Python 3 (ipykernel)",
   "language": "python",
   "name": "python3"
  },
  "language_info": {
   "codemirror_mode": {
    "name": "ipython",
    "version": 3
   },
   "file_extension": ".py",
   "mimetype": "text/x-python",
   "name": "python",
   "nbconvert_exporter": "python",
   "pygments_lexer": "ipython3",
   "version": "3.7.16"
  }
 },
 "nbformat": 4,
 "nbformat_minor": 5
}
