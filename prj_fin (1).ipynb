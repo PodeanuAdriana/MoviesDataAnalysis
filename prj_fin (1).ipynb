{
 "cells": [
  {
   "cell_type": "code",
   "execution_count": 1,
   "id": "76356d28",
   "metadata": {},
   "outputs": [
    {
     "name": "stdout",
     "output_type": "stream",
     "text": [
      "100000\n",
      "87585\n"
     ]
    }
   ],
   "source": [
    "#proiect final analiza datelor \n",
    "import math\n",
    "import pandas as pd\n",
    "import seaborn as sns\n",
    "import matplotlib.pyplot as plt\n",
    "import numpy as np\n",
    "rat=pd.read_csv(r\"data_prj/ratings.csv\",nrows=100000)\n",
    "mov=pd.read_csv(r\"data_prj/movies.csv\",nrows=100000)\n",
    "tags=pd.read_csv(r\"data_prj/tags.csv\",nrows=100000)\n",
    "# selectez coloanele care ma intreseaza din fiecare fisier \n",
    "\n",
    "#ratings.csv\n",
    "\n",
    "userId=rat[\"userId\"]\n",
    "movieId=rat[\"movieId\"]\n",
    "rating=rat[\"rating\"]\n",
    "timest=rat[\"timestamp\"]\n",
    "\n",
    "#movie.csv\n",
    "\n",
    "movId=mov[\"movieId\"]\n",
    "title=mov[\"title\"]\n",
    "\n",
    "\n",
    "nr_inre_ra=rating.size\n",
    "print(nr_inre_ra)\n",
    "\n",
    "nr_inre_mv=title.size\n",
    "print(nr_inre_mv)\n",
    "\n"
   ]
  },
  {
   "cell_type": "code",
   "execution_count": 2,
   "id": "f6ffbdc4",
   "metadata": {},
   "outputs": [
    {
     "name": "stdout",
     "output_type": "stream",
     "text": [
      "352052.5\n",
      "3.520525\n"
     ]
    }
   ],
   "source": [
    "\n",
    "#Calculez suma raitingurilor\n",
    "\n",
    "suma_rat=rat[\"rating\"].sum()\n",
    "print(suma_rat)\n",
    "#Calculez media generala a raitingurilor\n",
    "\n",
    "medie_rat=suma_rat/nr_inre_ra\n",
    "print(medie_rat)"
   ]
  },
  {
   "cell_type": "code",
   "execution_count": 3,
   "id": "acc8105b",
   "metadata": {},
   "outputs": [
    {
     "name": "stdout",
     "output_type": "stream",
     "text": [
      "0        0.479475\n",
      "1       -2.520525\n",
      "2       -1.520525\n",
      "3        1.479475\n",
      "4        1.479475\n",
      "           ...   \n",
      "99995   -0.520525\n",
      "99996   -0.520525\n",
      "99997   -1.020525\n",
      "99998    0.479475\n",
      "99999   -1.020525\n",
      "Name: rating, Length: 100000, dtype: float64\n"
     ]
    }
   ],
   "source": [
    "# pun intr-un nou df valorile centrate de raiting fata de medie \n",
    "#calculez (xi-medie)\n",
    "\n",
    "rat_op_medie=rat[\"rating\"]- medie_rat\n",
    "print(rat_op_medie)"
   ]
  },
  {
   "cell_type": "code",
   "execution_count": 4,
   "id": "8133714f",
   "metadata": {},
   "outputs": [
    {
     "name": "stdout",
     "output_type": "stream",
     "text": [
      "0        0.229896\n",
      "1        6.353046\n",
      "2        2.311996\n",
      "3        2.188846\n",
      "4        2.188846\n",
      "           ...   \n",
      "99995    0.270946\n",
      "99996    0.270946\n",
      "99997    1.041471\n",
      "99998    0.229896\n",
      "99999    1.041471\n",
      "Name: rating, Length: 100000, dtype: float64\n"
     ]
    }
   ],
   "source": [
    "#calculez (xi-medie)^2\n",
    "\n",
    "rat_op_medie_pt=pow(rat_op_medie,2)\n",
    "print(rat_op_medie_pt)"
   ]
  },
  {
   "cell_type": "code",
   "execution_count": 5,
   "id": "9c6fa3e3",
   "metadata": {},
   "outputs": [
    {
     "name": "stdout",
     "output_type": "stream",
     "text": [
      "100000\n",
      "1e-05\n",
      "115018.12243750002\n",
      "1.1501812243750003\n"
     ]
    }
   ],
   "source": [
    "nr_inre_ra=rating.size\n",
    "print(nr_inre_ra)\n",
    "\n",
    "fractie=1/nr_inre_ra\n",
    "print(fractie)\n",
    "suma_dist_pt= rat_op_medie_pt.sum()\n",
    "print(suma_dist_pt)\n",
    "\n",
    "varianta_tot=fractie*suma_dist_pt\n",
    "print(varianta_tot)"
   ]
  },
  {
   "cell_type": "code",
   "execution_count": 6,
   "id": "22337a99",
   "metadata": {},
   "outputs": [
    {
     "name": "stdout",
     "output_type": "stream",
     "text": [
      "0.5\n",
      "5.0\n"
     ]
    }
   ],
   "source": [
    "min_rating=rat[\"rating\"].min()\n",
    "print(min_rating)\n",
    "max_rating=rat[\"rating\"].max()\n",
    "print(max_rating)"
   ]
  },
  {
   "cell_type": "code",
   "execution_count": 7,
   "id": "06aeda62",
   "metadata": {},
   "outputs": [
    {
     "name": "stdout",
     "output_type": "stream",
     "text": [
      "50718\n",
      "49282\n",
      "0.50718\n",
      "0.49282\n"
     ]
    }
   ],
   "source": [
    "# calculez distributia Bernouli \n",
    "# domeniul A=[min_rating,max_rating]\n",
    "# voi defini functia f in care voi face comparatie cu raiting < 4\n",
    "\n",
    "# suma_mic_4=0\n",
    "# suma_mar_4=0\n",
    "# for rating in rat[\"rating\"]:\n",
    "#     if(rating < 4):\n",
    "#         suma_mic_4+=1\n",
    "#     else:\n",
    "#         suma_mar_4+=1\n",
    "\n",
    "suma_mic_4=(rat[\"rating\"] <4).sum()\n",
    "suma_mar_4=(rat[\"rating\"] >= 4).sum()\n",
    "\n",
    "print(suma_mic_4)\n",
    "print(suma_mar_4)\n",
    "\n",
    "\n",
    "# calculez p si 1-p\n",
    "\n",
    "p=suma_mic_4/nr_inre_ra\n",
    "print(p)\n",
    "p1=suma_mar_4/nr_inre_ra\n",
    "print(p1)"
   ]
  },
  {
   "cell_type": "code",
   "execution_count": 8,
   "id": "74b88148",
   "metadata": {},
   "outputs": [],
   "source": [
    "# for rati in rat[\"rating\"]:\n",
    "#     rat['expp']=math.exp(-pow(rati-medie_rat,2)/(2*pow(varianta_tot,2)))\n",
    "#     print(expp)\n",
    "\n",
    "#alta varianta \n",
    "\n",
    "rat['expp'] = np.exp(-((rat[\"rating\"] - medie_rat) ** 2) / (2 * (varianta_tot ** 2)))"
   ]
  },
  {
   "cell_type": "code",
   "execution_count": 9,
   "id": "38cf8c9f",
   "metadata": {},
   "outputs": [
    {
     "name": "stdout",
     "output_type": "stream",
     "text": [
      "2.8830767779680784\n",
      "0.34685167167305736\n"
     ]
    }
   ],
   "source": [
    "#radical(2pi*sigma^2)\n",
    "radical=np.sqrt(2*math.pi*pow(varianta_tot,2))\n",
    "print(radical)\n",
    "fractie_radical=1/radical\n",
    "print(fractie_radical)"
   ]
  },
  {
   "cell_type": "code",
   "execution_count": 11,
   "id": "38795e6e",
   "metadata": {},
   "outputs": [
    {
     "name": "stdout",
     "output_type": "stream",
     "text": [
      "0        0.317986\n",
      "1        0.031429\n",
      "2        0.144759\n",
      "3        0.151656\n",
      "4        0.151656\n",
      "           ...   \n",
      "99995    0.313091\n",
      "99996    0.313091\n",
      "99997    0.233988\n",
      "99998    0.317986\n",
      "99999    0.233988\n",
      "Name: diff, Length: 100000, dtype: float64\n"
     ]
    }
   ],
   "source": [
    "# calculez functia f(x)\n",
    "\n",
    "# for ex in rat['expp']:\n",
    "rat['diff']=rat['expp']*fractie_radical\n",
    "print(rat['diff'])"
   ]
  },
  {
   "cell_type": "code",
   "execution_count": 12,
   "id": "6db6d3d3",
   "metadata": {},
   "outputs": [
    {
     "data": {
      "image/png": "[encoded data removed]",
      "text/plain": [
       "<Figure size 640x480 with 1 Axes>"
      ]
     },
     "metadata": {},
     "output_type": "display_data"
    },
    {
     "data": {
      "image/png": "[encoded data removed]",
      "text/plain": [
       "<Figure size 640x480 with 1 Axes>"
      ]
     },
     "metadata": {},
     "output_type": "display_data"
    }
   ],
   "source": [
    "plt.plot(rat['rating'], rat['diff'],marker='o')\n",
    "\n",
    "plt.xlabel(\"F(x)\")\n",
    "plt.ylabel(\"ratings\")\n",
    "plt.grid()\n",
    "plt.show()\n",
    "\n",
    "import seaborn as sns\n",
    "\n",
    "sns.lineplot(data=rat, x=\"rating\", y=\"diff\")\n",
    "plt.title(\"Grafic cu f(x)\")\n",
    "plt.show()"
   ]
  },
  {
   "cell_type": "code",
   "execution_count": 22,
   "id": "87fd93e7",
   "metadata": {},
   "outputs": [
    {
     "name": "stdout",
     "output_type": "stream",
     "text": [
      "0          NaN\n",
      "1        207.0\n",
      "2         91.0\n",
      "3         30.0\n",
      "4          8.0\n",
      "         ...  \n",
      "99995      NaN\n",
      "99996      2.0\n",
      "99997      NaN\n",
      "99998      NaN\n",
      "99999      NaN\n",
      "Name: nr_useri_mv, Length: 100000, dtype: float64\n",
      "0          0.0\n",
      "1        207.0\n",
      "2         91.0\n",
      "3         30.0\n",
      "4          8.0\n",
      "         ...  \n",
      "99995      0.0\n",
      "99996      2.0\n",
      "99997      0.0\n",
      "99998      0.0\n",
      "99999      0.0\n",
      "Name: nr_useri_mv, Length: 100000, dtype: float64\n"
     ]
    }
   ],
   "source": [
    "rat['nr_useri_mv']=rat.groupby(\"movieId\").size()\n",
    "# print(rat['nr_useri_mv'])\n",
    "# am completat valorile lipsa cu 0\n",
    "rat['nr_useri_mv']=rat['nr_useri_mv'].fillna(0)\n",
    "print(rat['nr_useri_mv'])"
   ]
  },
  {
   "cell_type": "code",
   "execution_count": 23,
   "id": "ec2c478f",
   "metadata": {},
   "outputs": [
    {
     "name": "stdout",
     "output_type": "stream",
     "text": [
      "100000\n",
      "89606.0\n",
      "0.89606\n",
      "0.0\n",
      "319.0\n"
     ]
    }
   ],
   "source": [
    "# #medie useri\n",
    "# #nr useri\n",
    "nr_useri=rat['userId'].count()\n",
    "print(nr_useri)\n",
    "\n",
    "suma_useri=rat['nr_useri_mv'].sum()\n",
    "print(suma_useri)\n",
    "medie_us=suma_useri/nr_useri\n",
    "print(medie_us)\n",
    "\n",
    "#calculez minim pe coloana\n",
    "min_us=rat['nr_useri_mv'].min()\n",
    "print(min_us)\n",
    "max_us=rat['nr_useri_mv'].max()\n",
    "print(max_us)"
   ]
  },
  {
   "cell_type": "code",
   "execution_count": 25,
   "id": "109698f5",
   "metadata": {},
   "outputs": [
    {
     "name": "stdout",
     "output_type": "stream",
     "text": [
      "0        0.447078\n",
      "1       -2.350217\n",
      "2       -1.417785\n",
      "3        1.379509\n",
      "4        1.379509\n",
      "           ...   \n",
      "99995   -0.485354\n",
      "99996   -0.485354\n",
      "99997   -0.951569\n",
      "99998    0.447078\n",
      "99999   -0.951569\n",
      "Name: zscore_rat, Length: 100000, dtype: float64\n"
     ]
    }
   ],
   "source": [
    "#voi calcula Z score pt coloana rating \n",
    "\n",
    "#calculez (xi-medie) rating \n",
    "rat['rat_op_medie']=rat[\"rating\"]- medie_rat\n",
    "# print(rat['rat_op_medie'])\n",
    "\n",
    "\n",
    "varianta_tot=fractie*suma_dist_pt\n",
    "# print(varianta_tot)\n",
    "\n",
    "sigma=np.sqrt(varianta_tot)\n",
    "# print(sigma)\n",
    "\n",
    "\n",
    "# Z score rating\n",
    "\n",
    "rat['zscore_rat']=rat['rat_op_medie']/sigma\n",
    "print(rat['zscore_rat'])\n"
   ]
  },
  {
   "cell_type": "code",
   "execution_count": 36,
   "id": "74901020",
   "metadata": {},
   "outputs": [
    {
     "name": "stdout",
     "output_type": "stream",
     "text": [
      "0         -0.89606\n",
      "1        206.10394\n",
      "2         90.10394\n",
      "3         29.10394\n",
      "4          7.10394\n",
      "           ...    \n",
      "99995     -0.89606\n",
      "99996      1.10394\n",
      "99997     -0.89606\n",
      "99998     -0.89606\n",
      "99999     -0.89606\n",
      "Name: cent_use, Length: 100000, dtype: float64\n",
      "55.62785647640003\n",
      "7.458408441242677\n"
     ]
    }
   ],
   "source": [
    "#voi calcula Z score pentru coloana nr_useri_mv care reprezinta nr de voturi date/useri pentru fiecare film\n",
    "\n",
    "\n",
    "# calculez (xi-medie) nr_useri_mv\n",
    "\n",
    "rat['cent_use']=rat['nr_useri_mv']- medie_us\n",
    "print(rat['cent_use'])\n",
    "\n",
    "# nan_nr=rat['cent_use'].isnull().sum()\n",
    "# print(nan_nr)\n",
    "rat['cent_use_2']=(rat['nr_useri_mv']- medie_us)**2\n",
    "\n",
    "# am completat valorile lipsa cu 0\n",
    "# rat['cent_use']=rat['cent_use'].fillna(0)\n",
    "# print(rat['cent_use'])\n",
    "\n",
    "suma_usxi=rat['cent_use_2'].sum()\n",
    "# print(suma_usxi)\n",
    "fractie=1/nr_inre_ra\n",
    "# print(fractie)\n",
    "\n",
    "varianta_totus=suma_usxi*fractie\n",
    "print(varianta_totus)\n",
    "\n",
    "sigma_us=np.sqrt(varianta_totus)\n",
    "print(sigma_us)\n",
    "\n",
    "\n",
    "# rat['zscore_us']=rat['cent_use']/sigma_us\n"
   ]
  },
  {
   "cell_type": "code",
   "execution_count": 38,
   "id": "1ebaeb3e",
   "metadata": {},
   "outputs": [
    {
     "name": "stdout",
     "output_type": "stream",
     "text": [
      "-0.10526820916010089\n",
      "1.2501746843511299e-06\n"
     ]
    }
   ],
   "source": [
    "# nr_useri_mv,rating\n",
    "#calculez (xi-medie)(xi-medie) rating*nr_usr_mv \n",
    "rat['calcule']=rat['rat_op_medie']*rat['cent_use']\n",
    "# print(rat['calcule'])\n",
    "\n",
    "suma_cal=rat['calcule'].sum()\n",
    "# print(suma_cal)\n",
    "\n",
    "\n",
    "#calculez covarianta pentru cele 2 coloane\n",
    "\n",
    "covarianta=suma_cal/suma_useri\n",
    "print(covarianta)\n",
    "\n",
    "covar_stand=fractie/(sigma_us*sigma)\n",
    "print(covar_stand)"
   ]
  },
  {
   "cell_type": "code",
   "execution_count": 42,
   "id": "b3c9facb",
   "metadata": {},
   "outputs": [
    {
     "name": "stdout",
     "output_type": "stream",
     "text": [
      "0        0.000000\n",
      "1        1.848214\n",
      "2        0.399123\n",
      "3        0.103806\n",
      "4        0.025723\n",
      "           ...   \n",
      "99995    0.000000\n",
      "99996    0.006309\n",
      "99997    0.000000\n",
      "99998    0.000000\n",
      "99999    0.000000\n",
      "Name: normalizare_nrusmv, Length: 100000, dtype: float64\n"
     ]
    }
   ],
   "source": [
    "#normalizare (xi-min)/(max-xi) pt rating\n",
    "\n",
    "rat['normalizare_rat']=((rat['rating']-min_rating)/(max_rating-rat['rating']))\n",
    "# print(rat['normalizare_rat'])\n",
    "\n",
    "#normalizare  (xi-min)/(max-xi) pt nr_useri_mv\n",
    "rat['normalizare_nrusmv']= ((rat['nr_useri_mv']-min_us)/(max_us-rat['nr_useri_mv']))\n",
    "print(rat['normalizare_nrusmv'])\n",
    "# am completat valorile lipsa cu 0\n",
    "# rat['normalizare_nrusmv']=rat['normalizare_nrusmv'].fillna(0)\n",
    "# print(rat['normalizare_nrusmv'])"
   ]
  },
  {
   "cell_type": "code",
   "execution_count": 43,
   "id": "d22e55c0",
   "metadata": {},
   "outputs": [
    {
     "name": "stdout",
     "output_type": "stream",
     "text": [
      "0          0.429638\n",
      "1        519.490133\n",
      "2        137.005293\n",
      "3         43.058552\n",
      "4         10.510102\n",
      "            ...    \n",
      "99995      0.466422\n",
      "99996      0.574628\n",
      "99997      0.914452\n",
      "99998      0.429638\n",
      "99999      0.914452\n",
      "Name: modul_usmv, Length: 100000, dtype: float64\n"
     ]
    }
   ],
   "source": [
    "# print(rat['rat_op_medie'])\n",
    "\n",
    "#Modul \n",
    "rat['modul_rat']=np.abs(rat['rat_op_medie'])\n",
    "# print(rat['modul_rat'])\n",
    "rat['modul_usmv']=np.abs(rat['calcule'])\n",
    "print(rat['modul_usmv'])"
   ]
  },
  {
   "cell_type": "code",
   "execution_count": 45,
   "id": "539b8af7",
   "metadata": {},
   "outputs": [
    {
     "name": "stdout",
     "output_type": "stream",
     "text": [
      "0          0.643805\n",
      "1        519.496248\n",
      "2        137.013731\n",
      "3         43.083961\n",
      "4         10.613721\n",
      "            ...    \n",
      "99995      0.698924\n",
      "99996      0.775335\n",
      "99997      1.370289\n",
      "99998      0.643805\n",
      "99999      1.370289\n",
      "Name: centrare_ratmv, Length: 100000, dtype: float64\n",
      "3.020525\n",
      "519.4901333685\n",
      "519.496248026391\n"
     ]
    }
   ],
   "source": [
    "# Centrare rating\n",
    "\n",
    "rat['centrare_ratmv']=np.sqrt((rat['modul_rat'] **2)+(rat['modul_usmv']**2))\n",
    "print(rat['centrare_ratmv'])\n",
    "\n",
    "#caut maxim pe toate coloanele calculate \n",
    "max_modrat=rat['modul_rat'].max()\n",
    "print(max_modrat)\n",
    "max_modusmv=rat['modul_usmv'].max()\n",
    "print(max_modusmv)\n",
    "max_centr=rat['centrare_ratmv'].max()\n",
    "print(max_centr)\n",
    "\n",
    "r=max_modusmv\n",
    "m=max_centr\n",
    "\n",
    "baz_ort1=[1,0,0]\n",
    "baz_ort2=[0,1,0]\n",
    "baz_ort3=[0,0,1]"
   ]
  },
  {
   "cell_type": "code",
   "execution_count": 49,
   "id": "55a4c17f",
   "metadata": {},
   "outputs": [
    {
     "name": "stdout",
     "output_type": "stream",
     "text": [
      "0       1999-12-03 19:24:37\n",
      "1       1999-12-03 19:43:48\n",
      "2       1999-11-22 00:36:16\n",
      "3       1999-12-03 19:24:37\n",
      "4       1999-11-22 00:00:58\n",
      "                ...        \n",
      "99995   2005-03-22 06:51:59\n",
      "99996   2005-03-22 06:52:07\n",
      "99997   2005-03-22 06:52:54\n",
      "99998   2005-03-22 06:50:55\n",
      "99999   2005-03-22 06:52:23\n",
      "Name: format_data, Length: 100000, dtype: datetime64[ns]\n",
      "0        1999\n",
      "1        1999\n",
      "2        1999\n",
      "3        1999\n",
      "4        1999\n",
      "         ... \n",
      "99995    2005\n",
      "99996    2005\n",
      "99997    2005\n",
      "99998    2005\n",
      "99999    2005\n",
      "Name: year_mv, Length: 100000, dtype: int64\n"
     ]
    }
   ],
   "source": [
    "#voi lua coloana timest si o voi prelucra astfel incat sa pot face categorii pe ani pt filme\n",
    "from datetime import datetime\n",
    "# dt_object = datetime.fromtimestamp(timestamp)\n",
    "# pd.to_datetime(timestamps, unit='s') \n",
    "timest=rat[\"timestamp\"]\n",
    "rat['format_data']=pd.to_datetime(timest,unit='s')\n",
    "# years = datetimes.dt.year\n",
    "rat['year_mv']=rat['format_data'].dt.year\n",
    "# print(rat['format_data'])\n",
    "print(rat['year_mv'])"
   ]
  },
  {
   "cell_type": "code",
   "execution_count": 56,
   "id": "e07cf88b",
   "metadata": {},
   "outputs": [
    {
     "name": "stdout",
     "output_type": "stream",
     "text": [
      "23869\n",
      "76131\n",
      "0.76131\n",
      "0.18171708389999996\n",
      "0.42628286841016727\n"
     ]
    }
   ],
   "source": [
    "#le pun pe 2 categorii impartite pe ani pana si dupa 2002\n",
    "vechi=((rat['year_mv']) <=2002).to_numpy()\n",
    "# print(vechi)\n",
    "suma_mv_vechi=vechi.sum()\n",
    "print(suma_mv_vechi)\n",
    "noi=((rat['year_mv'])>2002).to_numpy()\n",
    "suma_mv_noi=noi.sum()\n",
    "print(suma_mv_noi)\n",
    "\n",
    "mean_v_n=suma_mv_noi/nr_inre_ra\n",
    "print(mean_v_n)\n",
    "\n",
    "varianta_pt=mean_v_n*(1-mean_v_n)\n",
    "print(varianta_pt)\n",
    "\n",
    "varianta_s=np.sqrt(varianta_pt)\n",
    "print(varianta_s)\n"
   ]
  },
  {
   "cell_type": "code",
   "execution_count": 63,
   "id": "999d8e55",
   "metadata": {},
   "outputs": [
    {
     "name": "stdout",
     "output_type": "stream",
     "text": [
      "8179\n",
      "8694\n",
      "4990\n",
      "8179\n",
      "<-------->Probabilitate empirica<-------->\n",
      "\n",
      "0.08179\n",
      "0.08694\n",
      "0.0499\n",
      "0.08179\n"
     ]
    }
   ],
   "source": [
    "# le pun pe 4 categorii impartite pe ani \n",
    "#1999-2000foarte vechi\n",
    "#2001-2002 vechi\n",
    "#2003-2004 moderne\n",
    "#2004-2005 noi\n",
    "fvch=(((rat['year_mv'])>=1999 ) &(rat['year_mv'] <= 2000)).to_numpy()\n",
    "# print(fvch)\n",
    "vch=(((rat['year_mv'])>=2001 )& (rat['year_mv'] <= 2002)).to_numpy()\n",
    "# print(vch)\n",
    "mode=(((rat['year_mv'])>=2003 )& (rat['year_mv'] <= 2004)).to_numpy()\n",
    "# print(mode)\n",
    "noi=(((rat['year_mv'])>=1999 )& (rat['year_mv'] <= 2000)).to_numpy()\n",
    "# print(noi)\n",
    "\n",
    "# nr total pe categorie\n",
    "\n",
    "nr_tot_fvch=fvch.sum()\n",
    "print(nr_tot_fvch)\n",
    "nr_tot_vch=vch.sum()\n",
    "print(nr_tot_vch)\n",
    "nr_tot_mode=mode.sum()\n",
    "print(nr_tot_mode)\n",
    "nr_tot_noi=noi.sum()\n",
    "print(nr_tot_noi)\n",
    "\n",
    "print(\"<-------->Probabilitate empirica<-------->\\n\")\n",
    "\n",
    "pr_em_fvch=nr_tot_fvch/nr_inre_ra\n",
    "print(pr_em_fvch)\n",
    "pr_em_vch=nr_tot_vch/nr_inre_ra\n",
    "print(pr_em_vch)\n",
    "pr_em_mode=nr_tot_mode/nr_inre_ra\n",
    "print(pr_em_mode)\n",
    "pr_em_noi=nr_tot_noi/nr_inre_ra\n",
    "print(pr_em_noi)"
   ]
  },
  {
   "cell_type": "code",
   "execution_count": 64,
   "id": "b2cea4c9",
   "metadata": {},
   "outputs": [
    {
     "name": "stdout",
     "output_type": "stream",
     "text": [
      "<-------->Masa de probabilitate<-------->\n",
      "\n",
      "0.0751003959\n",
      "0.0793814364\n",
      "0.04740999\n",
      "0.0751003959\n"
     ]
    }
   ],
   "source": [
    "print(\"<-------->Masa de probabilitate<-------->\\n\")    \n",
    "\n",
    "print(pr_em_fvch*(1-pr_em_fvch))\n",
    "print(pr_em_vch*(1-pr_em_vch))\n",
    "print(pr_em_mode*(1-pr_em_mode))\n",
    "print(pr_em_noi*(1-pr_em_noi))\n",
    "    "
   ]
  },
  {
   "cell_type": "code",
   "execution_count": 66,
   "id": "10be1733",
   "metadata": {},
   "outputs": [
    {
     "name": "stdout",
     "output_type": "stream",
     "text": [
      "<----------p*pT----------->\n",
      "0.0066896041000000005 0.0071108226 0.004081321 0.0066896041000000005\n",
      "--------------------\n",
      "0.0071108226 0.007558563600000001 0.004338306 0.0071108226\n",
      "---------------------\n",
      "0.004081321 0.004338306 0.00249001 0.004081321\n",
      "---------------------\n",
      "0.0066896041000000005 0.0071108226 0.004081321 0.0066896041000000005\n",
      "<-------------Matricea P---------------->\n",
      "0.08179 0 0 0\n",
      "0 0.08694 0 0\n",
      "0 0 0.05 0\n",
      "0 0 0 0.08179\n",
      "<-------------Matricea de covarianta(p-p*pT)---------------->\n",
      "0.08 -0.01 -0.0 -0.01\n",
      "-0.01 0.08 -0.0 -0.01\n",
      "-0.0 -0.0 0.05 -0.0\n",
      "-0.01 -0.01 -0.0 0.08\n"
     ]
    }
   ],
   "source": [
    "print(\"<----------p*pT----------->\")\n",
    "\n",
    "a=pr_em_fvch*pr_em_fvch\n",
    "# print(a)\n",
    "b=pr_em_fvch*pr_em_vch\n",
    "# print(b)\n",
    "c=pr_em_fvch*pr_em_mode\n",
    "# print(c)\n",
    "d=pr_em_fvch*pr_em_noi\n",
    "# print(d)\n",
    "print(a,b,c,d)\n",
    "print(\"--------------------\")\n",
    "e=pr_em_vch*pr_em_fvch\n",
    "# print(e)\n",
    "f=pr_em_vch*pr_em_vch\n",
    "# print(f)\n",
    "g=pr_em_vch*pr_em_mode\n",
    "# print(g)\n",
    "h=pr_em_vch*pr_em_noi\n",
    "# print(h)\n",
    "print(e,f,g,h)\n",
    "print(\"---------------------\")\n",
    "i=pr_em_mode*pr_em_fvch\n",
    "# print(i)\n",
    "j=pr_em_mode*pr_em_vch\n",
    "# print(j)\n",
    "k=pr_em_mode*pr_em_mode\n",
    "# print(k)\n",
    "l=pr_em_mode*pr_em_noi\n",
    "# print(l)\n",
    "print(i,j,k,l)\n",
    "print(\"---------------------\")\n",
    "m=pr_em_noi*pr_em_fvch\n",
    "n=pr_em_noi*pr_em_vch\n",
    "o=pr_em_noi*pr_em_mode\n",
    "p=pr_em_noi*pr_em_noi\n",
    "print(m,n,o,p)\n",
    "print(\"<-------------Matricea P---------------->\")\n",
    "print(pr_em_fvch,0,0,0)\n",
    "print(0,pr_em_vch,0,0)\n",
    "print(0,0,round(pr_em_mode,3),0)\n",
    "print(0,0,0,pr_em_noi)\n",
    "print(\"<-------------Matricea de covarianta(p-p*pT)---------------->\")\n",
    "print(round(pr_em_fvch-a, 2),round(0-b,2),round(0-c,2),round(0-d,2))\n",
    "print(round(0-e,2),round(pr_em_vch-f,2),round(0-g,2),round(0-h,2))\n",
    "print(round(0-i,2),round(0-j,2),round(pr_em_mode-k,2),round(0-l,2))\n",
    "print(round(0-m,2),round(0-n,2),round(0-o,2),round(pr_em_noi-p,2))"
   ]
  },
  {
   "cell_type": "code",
   "execution_count": null,
   "id": "dbac4027",
   "metadata": {},
   "outputs": [],
   "source": []
  }
 ],
 "metadata": {
  "kernelspec": {
   "display_name": "Python 3 (ipykernel)",
   "language": "python",
   "name": "python3"
  },
  "language_info": {
   "codemirror_mode": {
    "name": "ipython",
    "version": 3
   },
   "file_extension": ".py",
   "mimetype": "text/x-python",
   "name": "python",
   "nbconvert_exporter": "python",
   "pygments_lexer": "ipython3",
   "version": "3.7.16"
  }
 },
 "nbformat": 4,
 "nbformat_minor": 5
}
